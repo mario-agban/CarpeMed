{
 "cells": [
  {
   "cell_type": "code",
   "execution_count": null,
   "id": "coupled-tournament",
   "metadata": {},
   "outputs": [],
   "source": [
    "import pandas as pd\n",
    "import numpy as np\n",
    "import re, json, os, requests"
   ]
  },
  {
   "cell_type": "code",
   "execution_count": null,
   "id": "diverse-seminar",
   "metadata": {},
   "outputs": [],
   "source": [
    "df = pd.read_csv(r'C:\\Users\\felfe\\Desktop\\CM\\mx_clean.csv')\n",
    "dfg"
   ]
  },
  {
   "cell_type": "code",
   "execution_count": null,
   "id": "b5ecf70b",
   "metadata": {},
   "outputs": [],
   "source": [
    "len(df.index)"
   ]
  },
  {
   "cell_type": "code",
   "execution_count": null,
   "id": "allied-registrar",
   "metadata": {
    "scrolled": true
   },
   "outputs": [],
   "source": [
    "df.columns"
   ]
  },
  {
   "cell_type": "code",
   "execution_count": null,
   "id": "ancient-extent",
   "metadata": {},
   "outputs": [],
   "source": [
    "#df['specialCourses'].str.replace('|', '')"
   ]
  },
  {
   "cell_type": "code",
   "execution_count": null,
   "id": "feacb75a",
   "metadata": {},
   "outputs": [],
   "source": [
    "df[~df['otherActivities'].isna()][['otherActivities']]"
   ]
  },
  {
   "cell_type": "code",
   "execution_count": null,
   "id": "aa823bfd",
   "metadata": {},
   "outputs": [],
   "source": [
    "def clean_activities(df):\n",
    "    df[~df['otherActivities'].isna()][['otherActivities']].apply(test, axis =1)\n",
    "    \n",
    "clean_activities(df)"
   ]
  },
  {
   "cell_type": "code",
   "execution_count": null,
   "id": "overhead-miller",
   "metadata": {},
   "outputs": [],
   "source": [
    "def clean_activities(df):\n",
    "    df[~df['otherActivities'].isna()][['otherActivities']].apply(test, axis =1)\n",
    "\n",
    "def test(x):\n",
    "    #print(x.str.join(', '))\n",
    "    #print(type(x))\n",
    "    return x.str.replace('[', \"\").replace(']', \"\").replace('\\'', \"\") \n",
    "\n",
    "\n",
    "clean_activities(df)\n",
    "print(df[~df['otherActivities'].isna()][['otherActivities']])\n"
   ]
  },
  {
   "cell_type": "code",
   "execution_count": null,
   "id": "thousand-column",
   "metadata": {},
   "outputs": [],
   "source": [
    "type(df['otherActivities'].iloc[1057])"
   ]
  },
  {
   "cell_type": "code",
   "execution_count": null,
   "id": "continental-relief",
   "metadata": {},
   "outputs": [],
   "source": [
    "print(df['otherActivities'].iloc[1057])\n",
    "\n",
    "test = df['otherActivities'].iloc[1053]\n",
    "test.replace('[', \"\").replace(']', \"\").replace('\\'', \"\")"
   ]
  },
  {
   "cell_type": "code",
   "execution_count": null,
   "id": "expired-treasure",
   "metadata": {
    "scrolled": true
   },
   "outputs": [],
   "source": [
    "#df['SpokenLanguages'] = clean_language(df)\n",
    "df[~df['otherActivities'].isna()][['otherActivities']]"
   ]
  },
  {
   "cell_type": "code",
   "execution_count": null,
   "id": "loaded-square",
   "metadata": {},
   "outputs": [],
   "source": [
    "pd.options.display.max_columns = None\n",
    "pd.options.display.max_rows = None\n",
    "df[~df['hospitals'].isna()][['hospitals']]\n"
   ]
  },
  {
   "cell_type": "code",
   "execution_count": null,
   "id": "isolated-administrator",
   "metadata": {},
   "outputs": [],
   "source": [
    "def clean_hospitals(df):\n",
    "    return (\n",
    "        df['hospitals'].str.replace(r'\\n', '').str.replace(r'\\t', '')\n",
    "        .str.strip().str.split('|')\n",
    "        .apply(lambda x: ', '.join(x) if type(x) == list else x))\n",
    "\n",
    "\n",
    "\n",
    "df['hospitals'] = clean_hospitals(df)\n",
    "print(df[~df['hospitals'].isna()][['hospitals']])\n"
   ]
  },
  {
   "cell_type": "code",
   "execution_count": null,
   "id": "93b6baf6",
   "metadata": {},
   "outputs": [],
   "source": []
  },
  {
   "cell_type": "code",
   "execution_count": null,
   "id": "assumed-paper",
   "metadata": {},
   "outputs": [],
   "source": [
    "df\n"
   ]
  },
  {
   "cell_type": "code",
   "execution_count": null,
   "id": "mature-segment",
   "metadata": {},
   "outputs": [],
   "source": [
    "def clean_certifications(df):\n",
    "    return df[~df['certifications'].isna()][['certifications']].apply(test1)\n",
    "\n",
    "def test1(x):\n",
    "    #print(x.str.join(', '))\n",
    "    #print(type(x))\n",
    "    #print(x.str.replace('[', \"\").replace(']', \"\").replace('\\'', \"\"))\n",
    "    return x.str.replace('[', \"\").replace(']', \"\").replace('\\'', \"\") \n",
    "\n",
    "\n",
    "clean_certifications(df)\n",
    "print(df[~df['certifications'].isna()][['certifications']])\n",
    "\n"
   ]
  },
  {
   "cell_type": "code",
   "execution_count": null,
   "id": "polish-highlight",
   "metadata": {},
   "outputs": [],
   "source": [
    "def clean_websites(df):\n",
    "    return (\n",
    "        df['websites']\n",
    "        .str.strip()\n",
    "        .apply(lambda x: ', '.join(x) if type(x) == list else x))\n",
    "\n",
    "df['websites'] = clean_websites(df)\n",
    "print(df[~df['websites'].isna()][['websites']])"
   ]
  },
  {
   "cell_type": "code",
   "execution_count": null,
   "id": "emerging-tobacco",
   "metadata": {},
   "outputs": [],
   "source": []
  },
  {
   "cell_type": "code",
   "execution_count": null,
   "id": "welsh-teens",
   "metadata": {},
   "outputs": [],
   "source": [
    "def clean_specialCourses(df):\n",
    "    return (\n",
    "        df['specialCourses'].str.replace(r'\\n', '')\n",
    "        .str.replace(r'â', '').str.replace(r'?', '')\n",
    "        .str.strip().str.split('|'))\n",
    "        \n",
    "df['specialCourses'] = clean_specialCourses(df)\n",
    "\n",
    "print(df[~df['specialCourses'].isna()][['specialCourses']])"
   ]
  },
  {
   "cell_type": "code",
   "execution_count": null,
   "id": "satellite-separate",
   "metadata": {},
   "outputs": [],
   "source": [
    "def clean_city(df):\n",
    "    return df['city']\n",
    "\n",
    "df['city'] = clean_city(df)\n",
    "\n",
    "print(df[~df['city'].isna()][['city']])"
   ]
  },
  {
   "cell_type": "code",
   "execution_count": null,
   "id": "annoying-boards",
   "metadata": {},
   "outputs": [],
   "source": [
    "def clean_photoUrl(df):\n",
    "    return df['photoUrl'].str.replace('Jorge Eduardo Hernandez', '').str.replace('Dorantes', '')\n",
    "\n",
    "df['photoUrl'] = clean_photoUrl(df)\n",
    "print(df[~df['photoUrl'].isna()][['photoUrl']])"
   ]
  },
  {
   "cell_type": "code",
   "execution_count": null,
   "id": "defensive-conclusion",
   "metadata": {
    "scrolled": false
   },
   "outputs": [],
   "source": [
    "def clean_email(df):\n",
    "    return (\n",
    "            df['email']\n",
    "            .astype(str).str.replace(r\"( )|(')\", \"\")\n",
    "            .str.replace('mailto:', '')\n",
    "            .str.replace('Malto:', '')\n",
    "            .str.replace('Email:', '')\n",
    "            .str.replace('\\t', '')\n",
    "            .str.replace('\\n', '')\n",
    "            .str.replace('हबिब्गिनेचो@होत्मैल.कॉम', '')\n",
    "            .str.replace(' जैमेक्लेइमन@याहू.कॉम', '')\n",
    "            .str.replace('की_क्चल@याहू.कॉम', '')\n",
    "            .str.replace('डॉ.रहलमिर@जीमेल.कॉम', '')\n",
    "            .str.replace(' चर्मसोफ़@होत्मैल.कॉम', '')\n",
    "            .str.replace('चर्मसोफ़@होत्मैल.कॉम', '')\n",
    "            .str.replace('जुअन्सावेद्र@याहू.कॉम', '')\n",
    "            .str.replace('जैमेक्लेइमन@याहू.कॉम', '')\n",
    "            .str.strip()\n",
    "            .str.split('|').apply(lambda x: ', '.join(x) if type(x) == list else x)\n",
    "            .apply(lambda x: x if len(x.split('@')) == 2 and '' not in x.split('@') else None)\n",
    "        ).str.replace(' ', '')\n",
    "    \n",
    "df['email'] = clean_email(df)\n",
    "print(df[~df['email'].isna()][['email']])"
   ]
  },
  {
   "cell_type": "code",
   "execution_count": null,
   "id": "higher-cancer",
   "metadata": {},
   "outputs": [],
   "source": [
    "L = [x**2 for x in range(36)]"
   ]
  },
  {
   "cell_type": "code",
   "execution_count": null,
   "id": "indonesian-shopper",
   "metadata": {},
   "outputs": [],
   "source": [
    "L[1:10:3]"
   ]
  },
  {
   "cell_type": "code",
   "execution_count": null,
   "id": "lyric-thickness",
   "metadata": {},
   "outputs": [],
   "source": []
  }
 ],
 "metadata": {
  "kernelspec": {
   "display_name": "Python 3",
   "language": "python",
   "name": "python3"
  },
  "language_info": {
   "codemirror_mode": {
    "name": "ipython",
    "version": 3
   },
   "file_extension": ".py",
   "mimetype": "text/x-python",
   "name": "python",
   "nbconvert_exporter": "python",
   "pygments_lexer": "ipython3",
   "version": "3.8.8"
  }
 },
 "nbformat": 4,
 "nbformat_minor": 5
}
